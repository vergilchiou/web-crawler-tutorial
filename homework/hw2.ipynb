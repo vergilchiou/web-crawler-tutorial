{
 "cells": [
  {
   "cell_type": "markdown",
   "metadata": {},
   "source": [
    "> [範例網站](http://blog.castman.net/web-crawler-tutorial/ch2/blog/blog.html)"
   ]
  },
  {
   "cell_type": "markdown",
   "metadata": {},
   "source": [
    "# 2-2_1.BeautifulSoup 講解與網頁結構巡覽 (1)"
   ]
  },
  {
   "cell_type": "code",
   "execution_count": 161,
   "metadata": {
    "collapsed": true,
    "scrolled": true
   },
   "outputs": [],
   "source": [
    "import requests\n",
    "from bs4 import BeautifulSoup\n",
    "\n",
    "resp = requests.get('http://blog.castman.net/web-crawler-tutorial/ch2/blog/blog.html')\n",
    "soup = BeautifulSoup(resp.text, 'html.parser')"
   ]
  },
  {
   "cell_type": "code",
   "execution_count": 162,
   "metadata": {
    "collapsed": false,
    "scrolled": true
   },
   "outputs": [
    {
     "data": {
      "text/plain": [
       "<!DOCTYPE html>\n",
       "\n",
       "<!-- saved from url=(0027)http://www.pycone.com/blogs -->\n",
       "<html lang=\"en\"><head><meta content=\"text/html; charset=utf-8\" http-equiv=\"Content-Type\">\n",
       "<title>Pycone松果城市</title>\n",
       "<meta content=\"IE=edge,chrome=1\" http-equiv=\"X-UA-Compatible\">\n",
       "<meta content=\"width=device-width, initial-scale=1.0, maximum-scale=1.0, user-scalable=0\" name=\"viewport\">\n",
       "<meta content=\"Pycone提供最完整的pyhton線上課程\" name=\"description\">\n",
       "<meta content=\"Pycone,pycone,松果城市,松果程式,python課程,python教學,python blog,程式教學,線上教學,線上課程,django,網站後台,機器學習,網頁爬蟲,自然語言處理,資料分析,資料科學\" name=\"keywords\">\n",
       "<meta content=\"Hubert\" name=\"author\">\n",
       "<!--     Fonts and icons     -->\n",
       "<link href=\"static/main.css\" rel=\"stylesheet\" type=\"text/css\">\n",
       "<link href=\"static/font-awesome.min.css\" rel=\"stylesheet\">\n",
       "<link href=\"http://www.pycone.com/static/images/favicon.ico\" rel=\"shortcut icon\">\n",
       "<!-- CSS Files -->\n",
       "<link href=\"static/bootstrap.min.css\" rel=\"stylesheet\">\n",
       "<link href=\"static/material-kit.css\" rel=\"stylesheet\">\n",
       "<style id=\"style-1-cropbar-clipper\">/* Copyright 2014 Evernote Corporation. All rights reserved. */\n",
       ".en-markup-crop-options {\n",
       "    top: 18px !important;\n",
       "    left: 50% !important;\n",
       "    margin-left: -100px !important;\n",
       "    width: 200px !important;\n",
       "    border: 2px rgba(255,255,255,.38) solid !important;\n",
       "    border-radius: 4px !important;\n",
       "}\n",
       "\n",
       ".en-markup-crop-options div div:first-of-type {\n",
       "    margin-left: 0px !important;\n",
       "}\n",
       "</style></link></link></link></link></link></meta></meta></meta></meta></meta></meta></head>\n",
       "<body>\n",
       "<div class=\"main main-raised\">\n",
       "<!-- courses introduction -->\n",
       "<div class=\"blogs-3\">\n",
       "<div class=\"container\">\n",
       "<div class=\"row\">\n",
       "<div class=\"section\">\n",
       "<h3 class=\"title text-center\">Python教學文章</h3>\n",
       "<br>\n",
       "<div class=\"row\">\n",
       "<div class=\"col-md-4\">\n",
       "<div class=\"card card-blog\">\n",
       "<div class=\"card-image\">\n",
       "<a href=\"http://www.pycone.com/blogs#pablo\">\n",
       "<img class=\"img img-raised\" src=\"static/python-for-beginners.png\">\n",
       "</img></a>\n",
       "</div>\n",
       "<div class=\"content\">\n",
       "<h6 class=\"category text-muted\">開發環境設定</h6>\n",
       "<h4 class=\"card-title\">\n",
       "<a href=\"http://www.pycone.com/blogs#pablo\">Mac使用者</a>\n",
       "</h4>\n",
       "<p class=\"card-description\" id=\"mac-p\">\n",
       "                                    在Mac環境下安裝Python與Sublime Text3<a data-foo=\"mac-foo\" href=\"http://www.pycone.com/blogs/mac-python-environment\"> <br>Read More </br></a>\n",
       "</p>\n",
       "</div>\n",
       "</div>\n",
       "</div>\n",
       "<div class=\"col-md-4\">\n",
       "<div class=\"card card-blog\">\n",
       "<div class=\"card-image\">\n",
       "<a href=\"http://www.pycone.com/blogs#pablo\">\n",
       "<img class=\"img img-raised\" src=\"static/python_crawler.png\">\n",
       "</img></a>\n",
       "</div>\n",
       "<div class=\"content\">\n",
       "<h6 class=\"category text-muted\">\n",
       "                                    資料科學\n",
       "                                </h6>\n",
       "<h4 class=\"card-title\">\n",
       "<a href=\"http://www.pycone.com/blogs#pablo\">給初學者的 Python 網頁爬蟲與資料分析</a>\n",
       "</h4>\n",
       "<p class=\"card-description\">\n",
       "                                     (1) 前言<a href=\"http://www.pycone.com/blogs/python-data-science-tutorial-1\"> <br>Read More </br></a>\n",
       "</p>\n",
       "</div>\n",
       "</div>\n",
       "</div>\n",
       "<div class=\"col-md-4\">\n",
       "<div class=\"card card-blog\">\n",
       "<div class=\"card-image\">\n",
       "<a href=\"http://www.pycone.com/blogs#pablo\">\n",
       "<img class=\"img img-raised\" src=\"static/python_crawler.png\">\n",
       "</img></a>\n",
       "</div>\n",
       "<div class=\"content\">\n",
       "<h6 class=\"category text-muted\">\n",
       "                                    資料科學\n",
       "                                </h6>\n",
       "<h4 class=\"card-title\">\n",
       "<a href=\"http://www.pycone.com/blogs#pablo\">給初學者的 Python 網頁爬蟲與資料分析</a>\n",
       "</h4>\n",
       "<p class=\"card-description\">\n",
       "                                     (2) 套件安裝與啟動網頁爬蟲<a href=\"http://www.pycone.com/blogs/python-data-science-tutorial-2\"> <br>Read More </br></a>\n",
       "</p>\n",
       "</div>\n",
       "</div>\n",
       "</div>\n",
       "<div class=\"col-md-4\">\n",
       "<div class=\"card card-blog\">\n",
       "<div class=\"card-image\">\n",
       "<a href=\"http://www.pycone.com/blogs#pablo\">\n",
       "<img class=\"img img-raised\" src=\"static/python_crawler.png\">\n",
       "</img></a>\n",
       "</div>\n",
       "<div class=\"content\">\n",
       "<h6 class=\"category text-muted\">\n",
       "                                    資料科學\n",
       "                                </h6>\n",
       "<h4 class=\"card-title\">\n",
       "<a href=\"http://www.pycone.com/blogs#pablo\">給初學者的 Python 網頁爬蟲與資料分析</a>\n",
       "</h4>\n",
       "<p class=\"card-description\">\n",
       "                                     (3) 解構並擷取網頁資料<a href=\"http://www.pycone.com/blogs/python-data-science-tutorial-3\"> <br>Read More </br></a>\n",
       "</p>\n",
       "</div>\n",
       "</div>\n",
       "</div>\n",
       "<div class=\"col-md-4\">\n",
       "<div class=\"card card-blog\">\n",
       "<div class=\"card-image\">\n",
       "<a href=\"http://www.pycone.com/blogs#pablo\">\n",
       "<img class=\"img img-raised\" src=\"static/python_crawler.png\">\n",
       "</img></a>\n",
       "</div>\n",
       "<div class=\"content\">\n",
       "<h6 class=\"category text-muted\">\n",
       "                                    資料科學\n",
       "                                </h6>\n",
       "<h4 class=\"card-title\">\n",
       "<a href=\"http://www.pycone.com/blogs#pablo\">給初學者的 Python 網頁爬蟲與資料分析</a>\n",
       "</h4>\n",
       "<p class=\"card-description\">\n",
       "                                     (4) 擷取資料及下載圖片<a href=\"http://www.pycone.com/blogs/python-data-science-tutorial-4\"> <br>Read More </br></a>\n",
       "</p>\n",
       "</div>\n",
       "</div>\n",
       "</div>\n",
       "<div class=\"col-md-4\">\n",
       "<div class=\"card card-blog\">\n",
       "<div class=\"card-image\">\n",
       "<a href=\"http://www.pycone.com/blogs#pablo\">\n",
       "<img class=\"img img-raised\" src=\"static/python_crawler.png\">\n",
       "</img></a>\n",
       "</div>\n",
       "<div class=\"content\">\n",
       "<h6 class=\"category text-muted\">\n",
       "                                    資料科學\n",
       "                                </h6>\n",
       "<h4 class=\"card-title\">\n",
       "<a href=\"http://www.pycone.com/blogs#pablo\">給初學者的 Python 網頁爬蟲與資料分析</a>\n",
       "</h4>\n",
       "<p class=\"card-description\">\n",
       "                                     (5) 資料分析及展示<a href=\"http://www.pycone.com/blogs/python-data-science-tutorial-5\"> <br>Read More </br></a>\n",
       "</p>\n",
       "</div>\n",
       "</div>\n",
       "</div>\n",
       "</div>\n",
       "</br></div>\n",
       "</div>\n",
       "</div>\n",
       "</div>\n",
       "</div>\n",
       "</body></html>"
      ]
     },
     "execution_count": 162,
     "metadata": {},
     "output_type": "execute_result"
    }
   ],
   "source": [
    "soup"
   ]
  },
  {
   "cell_type": "markdown",
   "metadata": {},
   "source": [
    "# 右鍵 $\\rightarrow$ 檢查\n",
    "# 發現標題都在 h4 的標籤內"
   ]
  },
  {
   "cell_type": "code",
   "execution_count": 32,
   "metadata": {
    "collapsed": true,
    "scrolled": true
   },
   "outputs": [
    {
     "data": {
      "text/plain": [
       "'Mac使用者'"
      ]
     },
     "execution_count": 32,
     "metadata": {},
     "output_type": "execute_result"
    }
   ],
   "source": [
    "soup.find('h4').a.text"
   ]
  },
  {
   "cell_type": "markdown",
   "metadata": {},
   "source": [
    "# 找到所有的 h4標籤"
   ]
  },
  {
   "cell_type": "code",
   "execution_count": 42,
   "metadata": {
    "collapsed": true,
    "scrolled": true
   },
   "outputs": [
    {
     "name": "stdout",
     "output_type": "stream",
     "text": [
      "Mac使用者\n",
      "給初學者的 Python 網頁爬蟲與資料分析\n",
      "給初學者的 Python 網頁爬蟲與資料分析\n",
      "給初學者的 Python 網頁爬蟲與資料分析\n",
      "給初學者的 Python 網頁爬蟲與資料分析\n",
      "給初學者的 Python 網頁爬蟲與資料分析\n"
     ]
    }
   ],
   "source": [
    "main_title = soup.find_all('h4')\n",
    "for title in main_title:\n",
    "    print(title.a.text)"
   ]
  },
  {
   "cell_type": "markdown",
   "metadata": {},
   "source": [
    "# 只要 h4裡面的 class = 'card-title'"
   ]
  },
  {
   "cell_type": "code",
   "execution_count": 44,
   "metadata": {
    "collapsed": true,
    "scrolled": true
   },
   "outputs": [
    {
     "name": "stdout",
     "output_type": "stream",
     "text": [
      "Mac使用者\n",
      "給初學者的 Python 網頁爬蟲與資料分析\n",
      "給初學者的 Python 網頁爬蟲與資料分析\n",
      "給初學者的 Python 網頁爬蟲與資料分析\n",
      "給初學者的 Python 網頁爬蟲與資料分析\n",
      "給初學者的 Python 網頁爬蟲與資料分析\n"
     ]
    }
   ],
   "source": [
    "main_title = soup.find_all('h4', 'card-title')\n",
    "for title in main_title:\n",
    "    print(title.a.text)"
   ]
  },
  {
   "cell_type": "markdown",
   "metadata": {},
   "source": [
    "***\n",
    "\n",
    "等同於以下寫法\n",
    "> ```\n",
    "soup.find_all('h4', {'class'='card-title'})\n",
    "soup.find_all('h4', class_ = 'card-title')\n",
    "> ```"
   ]
  },
  {
   "cell_type": "markdown",
   "metadata": {},
   "source": [
    "# 若只是要找出所有 class = 'card-title'的元件\n",
    "# 則第一個變數字串留白即可"
   ]
  },
  {
   "cell_type": "code",
   "execution_count": 59,
   "metadata": {
    "collapsed": false,
    "scrolled": true
   },
   "outputs": [
    {
     "data": {
      "text/plain": [
       "[<h4 class=\"card-title\">\n",
       " <a href=\"http://www.pycone.com/blogs#pablo\">Mac使用者</a>\n",
       " </h4>, <h4 class=\"card-title\">\n",
       " <a href=\"http://www.pycone.com/blogs#pablo\">給初學者的 Python 網頁爬蟲與資料分析</a>\n",
       " </h4>, <h4 class=\"card-title\">\n",
       " <a href=\"http://www.pycone.com/blogs#pablo\">給初學者的 Python 網頁爬蟲與資料分析</a>\n",
       " </h4>, <h4 class=\"card-title\">\n",
       " <a href=\"http://www.pycone.com/blogs#pablo\">給初學者的 Python 網頁爬蟲與資料分析</a>\n",
       " </h4>, <h4 class=\"card-title\">\n",
       " <a href=\"http://www.pycone.com/blogs#pablo\">給初學者的 Python 網頁爬蟲與資料分析</a>\n",
       " </h4>, <h4 class=\"card-title\">\n",
       " <a href=\"http://www.pycone.com/blogs#pablo\">給初學者的 Python 網頁爬蟲與資料分析</a>\n",
       " </h4>]"
      ]
     },
     "execution_count": 59,
     "metadata": {},
     "output_type": "execute_result"
    }
   ],
   "source": [
    "soup.find_all('', 'card-title')\n",
    "# key = value 的方式\n",
    "# soup.find_all(class_='card-title')"
   ]
  },
  {
   "cell_type": "markdown",
   "metadata": {},
   "source": [
    "# key=value 的方式"
   ]
  },
  {
   "cell_type": "code",
   "execution_count": 65,
   "metadata": {
    "collapsed": false,
    "scrolled": true
   },
   "outputs": [
    {
     "data": {
      "text/plain": [
       "'在Mac環境下安裝Python與Sublime Text3 Read More'"
      ]
     },
     "execution_count": 65,
     "metadata": {},
     "output_type": "execute_result"
    }
   ],
   "source": [
    "soup.find(id='mac-p').text.strip()"
   ]
  },
  {
   "cell_type": "markdown",
   "metadata": {},
   "source": [
    "***\n",
    "但若是 key有特殊符號則會錯誤  \n",
    "例如：  "
   ]
  },
  {
   "cell_type": "code",
   "execution_count": 61,
   "metadata": {
    "collapsed": false,
    "scrolled": true
   },
   "outputs": [
    {
     "ename": "SyntaxError",
     "evalue": "keyword can't be an expression (<ipython-input-61-b6fdbb0f9ae1>, line 1)",
     "output_type": "error",
     "traceback": [
      "\u001b[0;36m  File \u001b[0;32m\"<ipython-input-61-b6fdbb0f9ae1>\"\u001b[0;36m, line \u001b[0;32m1\u001b[0m\n\u001b[0;31m    soup.find(data-foo = \"mac-foo\")\u001b[0m\n\u001b[0m             ^\u001b[0m\n\u001b[0;31mSyntaxError\u001b[0m\u001b[0;31m:\u001b[0m keyword can't be an expression\n"
     ]
    }
   ],
   "source": [
    "soup.find(data-foo = \"mac-foo\")"
   ]
  },
  {
   "cell_type": "markdown",
   "metadata": {},
   "source": [
    "***\n",
    "此時改用\n",
    "> ```\n",
    " soup.find_all('', {'data-foo'='mac-foo'})\n",
    "> ```"
   ]
  },
  {
   "cell_type": "markdown",
   "metadata": {},
   "source": [
    "# 取得個篇blog所有的文字"
   ]
  },
  {
   "cell_type": "code",
   "execution_count": 73,
   "metadata": {
    "collapsed": false,
    "scrolled": true
   },
   "outputs": [
    {
     "name": "stdout",
     "output_type": "stream",
     "text": [
      "['開發環境設定', 'Mac使用者', '在Mac環境下安裝Python與Sublime Text3', 'Read More']\n",
      "['資料科學', '給初學者的 Python 網頁爬蟲與資料分析', '(1) 前言', 'Read More']\n",
      "['資料科學', '給初學者的 Python 網頁爬蟲與資料分析', '(2) 套件安裝與啟動網頁爬蟲', 'Read More']\n",
      "['資料科學', '給初學者的 Python 網頁爬蟲與資料分析', '(3) 解構並擷取網頁資料', 'Read More']\n",
      "['資料科學', '給初學者的 Python 網頁爬蟲與資料分析', '(4) 擷取資料及下載圖片', 'Read More']\n",
      "['資料科學', '給初學者的 Python 網頁爬蟲與資料分析', '(5) 資料分析及展示', 'Read More']\n"
     ]
    }
   ],
   "source": [
    "divs = soup.find_all('div', class_= 'content')\n",
    "for div in divs:\n",
    "    # print(div) # 很亂\n",
    "    # print(div.h6.text.strip(), div.h4.a.text.strip(), div.p.text.strip()) # 麻煩\n",
    "    print(list(div.stripped_strings)) # div.stripped_strings 回傳的是 iterator物件"
   ]
  },
  {
   "cell_type": "markdown",
   "metadata": {
    "collapsed": true
   },
   "source": [
    "# 2-2_2.BeautifulSoup 講解與網頁結構巡覽 (2)"
   ]
  },
  {
   "cell_type": "markdown",
   "metadata": {},
   "source": [
    "## 取得表格裡所有課程的價格並求平均"
   ]
  },
  {
   "cell_type": "markdown",
   "metadata": {},
   "source": [
    "### 2-2_1 的作法"
   ]
  },
  {
   "cell_type": "code",
   "execution_count": 12,
   "metadata": {
    "collapsed": false,
    "scrolled": true
   },
   "outputs": [],
   "source": [
    "import requests\n",
    "from bs4 import BeautifulSoup"
   ]
  },
  {
   "cell_type": "code",
   "execution_count": 164,
   "metadata": {
    "collapsed": false,
    "scrolled": true
   },
   "outputs": [],
   "source": [
    "resp = requests.get('http://blog.castman.net/web-crawler-tutorial/ch2/table/table.html')\n",
    "soup = BeautifulSoup(resp.text, 'html.parser')"
   ]
  },
  {
   "cell_type": "code",
   "execution_count": 165,
   "metadata": {
    "collapsed": false,
    "scrolled": false
   },
   "outputs": [
    {
     "data": {
      "text/plain": [
       "<!DOCTYPE html>\n",
       "\n",
       "<html lang=\"zh-tw\">\n",
       "<head>\n",
       "<title>Pycone 松果城市課程</title>\n",
       "<meta charset=\"utf-8\">\n",
       "<meta content=\"width=device-width, initial-scale=1\" name=\"viewport\">\n",
       "<link href=\"https://maxcdn.bootstrapcdn.com/bootstrap/3.3.7/css/bootstrap.min.css\" rel=\"stylesheet\">\n",
       "<script src=\"https://ajax.googleapis.com/ajax/libs/jquery/3.1.1/jquery.min.js\"></script>\n",
       "<script src=\"https://maxcdn.bootstrapcdn.com/bootstrap/3.3.7/js/bootstrap.min.js\"></script>\n",
       "</link></meta></meta></head>\n",
       "<body>\n",
       "<div class=\"container\">\n",
       "<h2>Pycone 松果城市課程列表</h2>\n",
       "<p>Python是非常強的的程式語言, 簡潔友好的語法特別容易上手, 又有許多第三方函式庫的支援。 Python是完全物件導向的語言, 有益於減少程式碼的重複性。Python的設計哲學是優雅, 明確, 簡單。 Python的設計風格, 使其成為易讀, 易維護且具有廣泛用途的程式語言。 Python的應用範圍相當廣泛, 例如web後端開發, 機器學習, 資料分析, 自然語言處理, 網頁爬蟲與遊戲等等。如果自己常常翻閱書籍卻無法掌握重點, 上網收集資料卻覺得太過片段, 想要自己動手寫寫看卻不知道如何開始。 這們課會從最基本的環境架設開始教起, 讓所有同學都可以深入淺出一窺Python的奧妙,更透過實務專題練習的方式,使學生可以應用課堂所學來完成一個Python軟體。</p>\n",
       "<table class=\"table\">\n",
       "<thead>\n",
       "<tr><th>課程名稱</th><th>適合對象</th><th>售價</th><th>課程連結</th></tr>\n",
       "</thead>\n",
       "<tbody>\n",
       "<tr><td>初心者 - Python入門</td><td>初學者</td><td>1490</td><td><a href=\"http://www.pycone.com\"><img alt=\"python™\" class=\"python-logo\" src=\"img/python-logo.png\"/></a></td></tr>\n",
       "<tr><td>Python 網頁爬蟲入門實戰</td><td>有程式基礎的初學者</td><td>1890</td><td><a href=\"http://www.pycone.com\"><img alt=\"python™\" class=\"python-logo\" src=\"img/python-logo.png\"/></a></td></tr>\n",
       "<tr><td>Python 機器學習入門實戰 (預計)</td><td>有程式基礎的初學者</td><td>1890</td><td><a href=\"http://www.pycone.com\"><img alt=\"python™\" class=\"python-logo\" src=\"img/python-logo.png\"/></a></td></tr>\n",
       "<tr><td>Python 資料科學入門實戰 (預計)</td><td>有程式基礎的初學者</td><td>1890</td><td><a href=\"http://www.pycone.com\"><img alt=\"python™\" class=\"python-logo\" src=\"img/python-logo.png\"/></a></td></tr>\n",
       "<tr><td>Python 資料視覺化入門實戰 (預計)</td><td>有程式基礎的初學者</td><td>1890</td><td><a href=\"http://www.pycone.com\"><img alt=\"python™\" class=\"python-logo\" src=\"img/python-logo.png\"/></a></td></tr>\n",
       "<tr><td>Python 網站架設入門實戰 (預計)</td><td>有程式基礎的初學者</td><td>1890</td><td><a><img alt=\"python™\" class=\"python-logo\" src=\"img/python-logo.png\"/></a></td></tr>\n",
       "</tbody>\n",
       "</table>\n",
       "</div>\n",
       "</body>\n",
       "</html>"
      ]
     },
     "execution_count": 165,
     "metadata": {},
     "output_type": "execute_result"
    }
   ],
   "source": [
    "soup"
   ]
  },
  {
   "cell_type": "markdown",
   "metadata": {},
   "source": [
    "### 方法一"
   ]
  },
  {
   "cell_type": "markdown",
   "metadata": {},
   "source": [
    "### 根據觀察，價格位於 *table* 中的 *tbody* 裡面的 *tr* 的 *td* 裡面"
   ]
  },
  {
   "cell_type": "code",
   "execution_count": 166,
   "metadata": {
    "collapsed": false
   },
   "outputs": [
    {
     "data": {
      "text/plain": [
       "[<tr><td>初心者 - Python入門</td><td>初學者</td><td>1490</td><td><a href=\"http://www.pycone.com\"><img alt=\"python™\" class=\"python-logo\" src=\"img/python-logo.png\"/></a></td></tr>,\n",
       " <tr><td>Python 網頁爬蟲入門實戰</td><td>有程式基礎的初學者</td><td>1890</td><td><a href=\"http://www.pycone.com\"><img alt=\"python™\" class=\"python-logo\" src=\"img/python-logo.png\"/></a></td></tr>,\n",
       " <tr><td>Python 機器學習入門實戰 (預計)</td><td>有程式基礎的初學者</td><td>1890</td><td><a href=\"http://www.pycone.com\"><img alt=\"python™\" class=\"python-logo\" src=\"img/python-logo.png\"/></a></td></tr>,\n",
       " <tr><td>Python 資料科學入門實戰 (預計)</td><td>有程式基礎的初學者</td><td>1890</td><td><a href=\"http://www.pycone.com\"><img alt=\"python™\" class=\"python-logo\" src=\"img/python-logo.png\"/></a></td></tr>,\n",
       " <tr><td>Python 資料視覺化入門實戰 (預計)</td><td>有程式基礎的初學者</td><td>1890</td><td><a href=\"http://www.pycone.com\"><img alt=\"python™\" class=\"python-logo\" src=\"img/python-logo.png\"/></a></td></tr>,\n",
       " <tr><td>Python 網站架設入門實戰 (預計)</td><td>有程式基礎的初學者</td><td>1890</td><td><a><img alt=\"python™\" class=\"python-logo\" src=\"img/python-logo.png\"/></a></td></tr>]"
      ]
     },
     "execution_count": 166,
     "metadata": {},
     "output_type": "execute_result"
    }
   ],
   "source": [
    "rows = soup.find('table', 'table').tbody.find_all('tr')\n",
    "rows"
   ]
  },
  {
   "cell_type": "code",
   "execution_count": 167,
   "metadata": {
    "collapsed": false
   },
   "outputs": [
    {
     "name": "stdout",
     "output_type": "stream",
     "text": [
      "[1490, 1890, 1890, 1890, 1890, 1890]\n",
      "所有課程的平均價格為：1823.3333333333333\n",
      "The average price：1823.333\n"
     ]
    }
   ],
   "source": [
    "prices = []\n",
    "for row in rows:\n",
    "    price = row.find_all('td')[2].text\n",
    "    prices.append(int(price))\n",
    "\n",
    "print(prices)\n",
    "\n",
    "# 練習一下格式化輸出\n",
    "print('所有課程的平均價格為：{}'.format(sum(prices) / len(prices)))\n",
    "print('The average price：%.3f' % (sum(prices) / len(prices)))"
   ]
  },
  {
   "cell_type": "markdown",
   "metadata": {},
   "source": [
    "### 方法二"
   ]
  },
  {
   "cell_type": "markdown",
   "metadata": {},
   "source": [
    "### 根據觀察，價格位於超連結欄位的前一個標籤"
   ]
  },
  {
   "cell_type": "code",
   "execution_count": 67,
   "metadata": {
    "collapsed": false
   },
   "outputs": [
    {
     "name": "stdout",
     "output_type": "stream",
     "text": [
      "[1490, 1890, 1890, 1890, 1890, 1890]\n",
      "The average price：1823.333\n"
     ]
    }
   ],
   "source": [
    "prices = []\n",
    "links = soup.find_all('a') # a 為超連結的標籤\n",
    "for link in links:\n",
    "    price = link.parent.previous_sibling.text # parent就是所在的欄位 td(因為 <td><a href=\"http://www.pycone.com\">...略</td>)\n",
    "    prices.append(int(price))\n",
    "\n",
    "print(prices)\n",
    "print('The average price：%.3f' % (sum(prices) / len(prices)))    "
   ]
  },
  {
   "cell_type": "markdown",
   "metadata": {},
   "source": [
    "### 以下為分解動作"
   ]
  },
  {
   "cell_type": "code",
   "execution_count": 69,
   "metadata": {
    "collapsed": false
   },
   "outputs": [
    {
     "data": {
      "text/plain": [
       "[<a href=\"http://www.pycone.com\"><img alt=\"python™\" class=\"python-logo\" src=\"img/python-logo.png\"/></a>,\n",
       " <a href=\"http://www.pycone.com\"><img alt=\"python™\" class=\"python-logo\" src=\"img/python-logo.png\"/></a>,\n",
       " <a href=\"http://www.pycone.com\"><img alt=\"python™\" class=\"python-logo\" src=\"img/python-logo.png\"/></a>,\n",
       " <a href=\"http://www.pycone.com\"><img alt=\"python™\" class=\"python-logo\" src=\"img/python-logo.png\"/></a>,\n",
       " <a href=\"http://www.pycone.com\"><img alt=\"python™\" class=\"python-logo\" src=\"img/python-logo.png\"/></a>,\n",
       " <a><img alt=\"python™\" class=\"python-logo\" src=\"img/python-logo.png\"/></a>]"
      ]
     },
     "execution_count": 69,
     "metadata": {},
     "output_type": "execute_result"
    }
   ],
   "source": [
    "links"
   ]
  },
  {
   "cell_type": "code",
   "execution_count": 74,
   "metadata": {
    "collapsed": false
   },
   "outputs": [
    {
     "data": {
      "text/plain": [
       "<a><img alt=\"python™\" class=\"python-logo\" src=\"img/python-logo.png\"/></a>"
      ]
     },
     "execution_count": 74,
     "metadata": {},
     "output_type": "execute_result"
    }
   ],
   "source": [
    "link"
   ]
  },
  {
   "cell_type": "code",
   "execution_count": 85,
   "metadata": {
    "collapsed": false
   },
   "outputs": [
    {
     "data": {
      "text/plain": [
       "<td><a><img alt=\"python™\" class=\"python-logo\" src=\"img/python-logo.png\"/></a></td>"
      ]
     },
     "execution_count": 85,
     "metadata": {},
     "output_type": "execute_result"
    }
   ],
   "source": [
    "link.parent"
   ]
  },
  {
   "cell_type": "code",
   "execution_count": 77,
   "metadata": {
    "collapsed": false
   },
   "outputs": [
    {
     "data": {
      "text/plain": [
       "<td>1890</td>"
      ]
     },
     "execution_count": 77,
     "metadata": {},
     "output_type": "execute_result"
    }
   ],
   "source": [
    "link.parent.previous_sibling"
   ]
  },
  {
   "cell_type": "code",
   "execution_count": 80,
   "metadata": {
    "collapsed": false
   },
   "outputs": [
    {
     "data": {
      "text/plain": [
       "'1890'"
      ]
     },
     "execution_count": 80,
     "metadata": {},
     "output_type": "execute_result"
    }
   ],
   "source": [
    "link.parent.previous_sibling.text"
   ]
  },
  {
   "cell_type": "markdown",
   "metadata": {},
   "source": [
    "## 把每一列欄位的資料都印出來，包括最後一個欄位的圖片&超連結"
   ]
  },
  {
   "cell_type": "markdown",
   "metadata": {},
   "source": [
    "### 作法：直接去爬標籤並print出來(這樣做會有問題)"
   ]
  },
  {
   "cell_type": "code",
   "execution_count": 168,
   "metadata": {
    "collapsed": false
   },
   "outputs": [
    {
     "name": "stdout",
     "output_type": "stream",
     "text": [
      "初心者 - Python入門 初學者 1490 http://www.pycone.com img/python-logo.png\n",
      "Python 網頁爬蟲入門實戰 有程式基礎的初學者 1890 http://www.pycone.com img/python-logo.png\n",
      "Python 機器學習入門實戰 (預計) 有程式基礎的初學者 1890 http://www.pycone.com img/python-logo.png\n",
      "Python 資料科學入門實戰 (預計) 有程式基礎的初學者 1890 http://www.pycone.com img/python-logo.png\n",
      "Python 資料視覺化入門實戰 (預計) 有程式基礎的初學者 1890 http://www.pycone.com img/python-logo.png\n"
     ]
    },
    {
     "ename": "KeyError",
     "evalue": "'href'",
     "output_type": "error",
     "traceback": [
      "\u001b[0;31m---------------------------------------------------------------------------\u001b[0m",
      "\u001b[0;31mKeyError\u001b[0m                                  Traceback (most recent call last)",
      "\u001b[0;32m<ipython-input-168-02ec95b185a4>\u001b[0m in \u001b[0;36m<module>\u001b[0;34m()\u001b[0m\n\u001b[1;32m      2\u001b[0m \u001b[0;32mfor\u001b[0m \u001b[0mrow\u001b[0m \u001b[0;32min\u001b[0m \u001b[0mrows\u001b[0m\u001b[0;34m:\u001b[0m\u001b[0;34m\u001b[0m\u001b[0m\n\u001b[1;32m      3\u001b[0m     \u001b[0mall_td\u001b[0m \u001b[0;34m=\u001b[0m \u001b[0mrow\u001b[0m\u001b[0;34m.\u001b[0m\u001b[0mfind_all\u001b[0m\u001b[0;34m(\u001b[0m\u001b[0;34m'td'\u001b[0m\u001b[0;34m)\u001b[0m\u001b[0;34m\u001b[0m\u001b[0m\n\u001b[0;32m----> 4\u001b[0;31m     \u001b[0mprint\u001b[0m\u001b[0;34m(\u001b[0m\u001b[0mall_td\u001b[0m\u001b[0;34m[\u001b[0m\u001b[0;36m0\u001b[0m\u001b[0;34m]\u001b[0m\u001b[0;34m.\u001b[0m\u001b[0mtext\u001b[0m\u001b[0;34m,\u001b[0m \u001b[0mall_td\u001b[0m\u001b[0;34m[\u001b[0m\u001b[0;36m1\u001b[0m\u001b[0;34m]\u001b[0m\u001b[0;34m.\u001b[0m\u001b[0mtext\u001b[0m\u001b[0;34m,\u001b[0m \u001b[0mall_td\u001b[0m\u001b[0;34m[\u001b[0m\u001b[0;36m2\u001b[0m\u001b[0;34m]\u001b[0m\u001b[0;34m.\u001b[0m\u001b[0mtext\u001b[0m\u001b[0;34m,\u001b[0m \u001b[0mall_td\u001b[0m\u001b[0;34m[\u001b[0m\u001b[0;36m3\u001b[0m\u001b[0;34m]\u001b[0m\u001b[0;34m.\u001b[0m\u001b[0ma\u001b[0m\u001b[0;34m[\u001b[0m\u001b[0;34m'href'\u001b[0m\u001b[0;34m]\u001b[0m\u001b[0;34m,\u001b[0m \u001b[0mall_td\u001b[0m\u001b[0;34m[\u001b[0m\u001b[0;36m3\u001b[0m\u001b[0;34m]\u001b[0m\u001b[0;34m.\u001b[0m\u001b[0ma\u001b[0m\u001b[0;34m.\u001b[0m\u001b[0mimg\u001b[0m\u001b[0;34m[\u001b[0m\u001b[0;34m'src'\u001b[0m\u001b[0;34m]\u001b[0m\u001b[0;34m)\u001b[0m\u001b[0;34m\u001b[0m\u001b[0m\n\u001b[0m",
      "\u001b[0;32m//anaconda/lib/python3.6/site-packages/bs4/element.py\u001b[0m in \u001b[0;36m__getitem__\u001b[0;34m(self, key)\u001b[0m\n\u001b[1;32m    995\u001b[0m         \"\"\"tag[key] returns the value of the 'key' attribute for the tag,\n\u001b[1;32m    996\u001b[0m         and throws an exception if it's not there.\"\"\"\n\u001b[0;32m--> 997\u001b[0;31m         \u001b[0;32mreturn\u001b[0m \u001b[0mself\u001b[0m\u001b[0;34m.\u001b[0m\u001b[0mattrs\u001b[0m\u001b[0;34m[\u001b[0m\u001b[0mkey\u001b[0m\u001b[0;34m]\u001b[0m\u001b[0;34m\u001b[0m\u001b[0m\n\u001b[0m\u001b[1;32m    998\u001b[0m \u001b[0;34m\u001b[0m\u001b[0m\n\u001b[1;32m    999\u001b[0m     \u001b[0;32mdef\u001b[0m \u001b[0m__iter__\u001b[0m\u001b[0;34m(\u001b[0m\u001b[0mself\u001b[0m\u001b[0;34m)\u001b[0m\u001b[0;34m:\u001b[0m\u001b[0;34m\u001b[0m\u001b[0m\n",
      "\u001b[0;31mKeyError\u001b[0m: 'href'"
     ]
    }
   ],
   "source": [
    "rows = soup.find('table', 'table').tbody.find_all('tr')\n",
    "for row in rows:\n",
    "    all_td = row.find_all('td')\n",
    "    print(all_td[0].text, all_td[1].text, all_td[2].text, all_td[3].a['href'], all_td[3].a.img['src'])"
   ]
  },
  {
   "cell_type": "markdown",
   "metadata": {},
   "source": [
    "觀察第6個欄位的課程連結a標籤，會發現他根本就沒有超連結 href"
   ]
  },
  {
   "cell_type": "markdown",
   "metadata": {},
   "source": [
    "改寫如下："
   ]
  },
  {
   "cell_type": "code",
   "execution_count": 147,
   "metadata": {
    "collapsed": false
   },
   "outputs": [
    {
     "name": "stdout",
     "output_type": "stream",
     "text": [
      "初心者 - Python入門 初學者 1490 http://www.pycone.com img/python-logo.png\n",
      "Python 網頁爬蟲入門實戰 有程式基礎的初學者 1890 http://www.pycone.com img/python-logo.png\n",
      "Python 機器學習入門實戰 (預計) 有程式基礎的初學者 1890 http://www.pycone.com img/python-logo.png\n",
      "Python 資料科學入門實戰 (預計) 有程式基礎的初學者 1890 http://www.pycone.com img/python-logo.png\n",
      "Python 資料視覺化入門實戰 (預計) 有程式基礎的初學者 1890 http://www.pycone.com img/python-logo.png\n",
      "Python 網站架設入門實戰 (預計) 有程式基礎的初學者 1890 No hyperlink img/python-logo.png\n"
     ]
    }
   ],
   "source": [
    "for row in rows:\n",
    "    all_td = row.find_all('td')\n",
    "    # 此處改寫\n",
    "    if 'href' in all_td[3].a.attrs:\n",
    "        href = all_td[3].a['href']\n",
    "    else:\n",
    "        href = 'No hyperlink'\n",
    "    #\n",
    "    print(all_td[0].text, all_td[1].text, all_td[2].text, href, all_td[3].a.img['src'])"
   ]
  },
  {
   "cell_type": "markdown",
   "metadata": {},
   "source": [
    "或者使用字典的 **.get('key', 若無此key要返回的值)** 方法"
   ]
  },
  {
   "cell_type": "markdown",
   "metadata": {},
   "source": [
    "可以讓程式更簡潔"
   ]
  },
  {
   "cell_type": "code",
   "execution_count": 149,
   "metadata": {
    "collapsed": false
   },
   "outputs": [
    {
     "name": "stdout",
     "output_type": "stream",
     "text": [
      "初心者 - Python入門 初學者 1490 http://www.pycone.com img/python-logo.png\n",
      "Python 網頁爬蟲入門實戰 有程式基礎的初學者 1890 http://www.pycone.com img/python-logo.png\n",
      "Python 機器學習入門實戰 (預計) 有程式基礎的初學者 1890 http://www.pycone.com img/python-logo.png\n",
      "Python 資料科學入門實戰 (預計) 有程式基礎的初學者 1890 http://www.pycone.com img/python-logo.png\n",
      "Python 資料視覺化入門實戰 (預計) 有程式基礎的初學者 1890 http://www.pycone.com img/python-logo.png\n",
      "Python 網站架設入門實戰 (預計) 有程式基礎的初學者 1890 No hyperlink here img/python-logo.png\n"
     ]
    }
   ],
   "source": [
    "for row in rows:\n",
    "    all_td = row.find_all('td')\n",
    "    href = all_td[3].a.attrs.get('href', 'No hyperlink here') #此處改寫\n",
    "    print(all_td[0].text, all_td[1].text, all_td[2].text, href, all_td[3].a.img['src'])"
   ]
  },
  {
   "cell_type": "markdown",
   "metadata": {},
   "source": [
    "## 另一種作法"
   ]
  },
  {
   "cell_type": "code",
   "execution_count": 156,
   "metadata": {
    "collapsed": false
   },
   "outputs": [
    {
     "name": "stdout",
     "output_type": "stream",
     "text": [
      "初心者 - Python入門 初學者 1490 http://www.pycone.com img/python-logo.png\n",
      "Python 網頁爬蟲入門實戰 有程式基礎的初學者 1890 http://www.pycone.com img/python-logo.png\n",
      "Python 機器學習入門實戰 (預計) 有程式基礎的初學者 1890 http://www.pycone.com img/python-logo.png\n",
      "Python 資料科學入門實戰 (預計) 有程式基礎的初學者 1890 http://www.pycone.com img/python-logo.png\n",
      "Python 資料視覺化入門實戰 (預計) 有程式基礎的初學者 1890 http://www.pycone.com img/python-logo.png\n",
      "Python 網站架設入門實戰 (預計) 有程式基礎的初學者 1890 No hyperlink img/python-logo.png\n"
     ]
    }
   ],
   "source": [
    "# rows = soup.find('table', 'table').tbody.find_all('tr')\n",
    "for row in rows:\n",
    "    # 改寫此處\n",
    "    # td的 children是tr\n",
    "    all_td = [td for td in row.children]\n",
    "    if 'href' in all_td[3].a.attrs:\n",
    "        href = all_td[3].a['href']\n",
    "    else:\n",
    "        href = 'No hyperlink'\n",
    "    print(all_td[0].text, all_td[1].text, all_td[2].text, href, all_td[3].a.img['src'])"
   ]
  },
  {
   "cell_type": "code",
   "execution_count": 157,
   "metadata": {
    "collapsed": false
   },
   "outputs": [
    {
     "data": {
      "text/plain": [
       "<tr><td>初心者 - Python入門</td><td>初學者</td><td>1490</td><td><a href=\"http://www.pycone.com\"><img alt=\"python™\" class=\"python-logo\" src=\"img/python-logo.png\"/></a></td></tr>"
      ]
     },
     "execution_count": 157,
     "metadata": {},
     "output_type": "execute_result"
    }
   ],
   "source": [
    "rows[0]"
   ]
  },
  {
   "cell_type": "markdown",
   "metadata": {},
   "source": [
    "## 複習 stripped_strings"
   ]
  },
  {
   "cell_type": "code",
   "execution_count": 158,
   "metadata": {
    "collapsed": false
   },
   "outputs": [
    {
     "name": "stdout",
     "output_type": "stream",
     "text": [
      "['初心者 - Python入門', '初學者', '1490']\n",
      "['Python 網頁爬蟲入門實戰', '有程式基礎的初學者', '1890']\n",
      "['Python 機器學習入門實戰 (預計)', '有程式基礎的初學者', '1890']\n",
      "['Python 資料科學入門實戰 (預計)', '有程式基礎的初學者', '1890']\n",
      "['Python 資料視覺化入門實戰 (預計)', '有程式基礎的初學者', '1890']\n",
      "['Python 網站架設入門實戰 (預計)', '有程式基礎的初學者', '1890']\n"
     ]
    }
   ],
   "source": [
    "for row in rows:\n",
    "    print([s for s in row.stripped_strings])"
   ]
  },
  {
   "cell_type": "markdown",
   "metadata": {},
   "source": [
    "# 2-3.正規表示式 (regular expression) "
   ]
  },
  {
   "cell_type": "code",
   "execution_count": 178,
   "metadata": {
    "collapsed": false
   },
   "outputs": [],
   "source": [
    "resp = requests.get('http://blog.castman.net/web-crawler-tutorial/ch2/blog/blog.html')\n",
    "soup = BeautifulSoup(resp.text, 'html.parser')"
   ]
  },
  {
   "cell_type": "code",
   "execution_count": 179,
   "metadata": {
    "collapsed": false,
    "scrolled": false
   },
   "outputs": [
    {
     "data": {
      "text/plain": [
       "<!DOCTYPE html>\n",
       "\n",
       "<!-- saved from url=(0027)http://www.pycone.com/blogs -->\n",
       "<html lang=\"en\"><head><meta content=\"text/html; charset=utf-8\" http-equiv=\"Content-Type\">\n",
       "<title>Pycone松果城市</title>\n",
       "<meta content=\"IE=edge,chrome=1\" http-equiv=\"X-UA-Compatible\">\n",
       "<meta content=\"width=device-width, initial-scale=1.0, maximum-scale=1.0, user-scalable=0\" name=\"viewport\">\n",
       "<meta content=\"Pycone提供最完整的pyhton線上課程\" name=\"description\">\n",
       "<meta content=\"Pycone,pycone,松果城市,松果程式,python課程,python教學,python blog,程式教學,線上教學,線上課程,django,網站後台,機器學習,網頁爬蟲,自然語言處理,資料分析,資料科學\" name=\"keywords\">\n",
       "<meta content=\"Hubert\" name=\"author\">\n",
       "<!--     Fonts and icons     -->\n",
       "<link href=\"static/main.css\" rel=\"stylesheet\" type=\"text/css\">\n",
       "<link href=\"static/font-awesome.min.css\" rel=\"stylesheet\">\n",
       "<link href=\"http://www.pycone.com/static/images/favicon.ico\" rel=\"shortcut icon\">\n",
       "<!-- CSS Files -->\n",
       "<link href=\"static/bootstrap.min.css\" rel=\"stylesheet\">\n",
       "<link href=\"static/material-kit.css\" rel=\"stylesheet\">\n",
       "<style id=\"style-1-cropbar-clipper\">/* Copyright 2014 Evernote Corporation. All rights reserved. */\n",
       ".en-markup-crop-options {\n",
       "    top: 18px !important;\n",
       "    left: 50% !important;\n",
       "    margin-left: -100px !important;\n",
       "    width: 200px !important;\n",
       "    border: 2px rgba(255,255,255,.38) solid !important;\n",
       "    border-radius: 4px !important;\n",
       "}\n",
       "\n",
       ".en-markup-crop-options div div:first-of-type {\n",
       "    margin-left: 0px !important;\n",
       "}\n",
       "</style></link></link></link></link></link></meta></meta></meta></meta></meta></meta></head>\n",
       "<body>\n",
       "<div class=\"main main-raised\">\n",
       "<!-- courses introduction -->\n",
       "<div class=\"blogs-3\">\n",
       "<div class=\"container\">\n",
       "<div class=\"row\">\n",
       "<div class=\"section\">\n",
       "<h3 class=\"title text-center\">Python教學文章</h3>\n",
       "<br>\n",
       "<div class=\"row\">\n",
       "<div class=\"col-md-4\">\n",
       "<div class=\"card card-blog\">\n",
       "<div class=\"card-image\">\n",
       "<a href=\"http://www.pycone.com/blogs#pablo\">\n",
       "<img class=\"img img-raised\" src=\"static/python-for-beginners.png\">\n",
       "</img></a>\n",
       "</div>\n",
       "<div class=\"content\">\n",
       "<h6 class=\"category text-muted\">開發環境設定</h6>\n",
       "<h4 class=\"card-title\">\n",
       "<a href=\"http://www.pycone.com/blogs#pablo\">Mac使用者</a>\n",
       "</h4>\n",
       "<p class=\"card-description\" id=\"mac-p\">\n",
       "                                    在Mac環境下安裝Python與Sublime Text3<a data-foo=\"mac-foo\" href=\"http://www.pycone.com/blogs/mac-python-environment\"> <br>Read More </br></a>\n",
       "</p>\n",
       "</div>\n",
       "</div>\n",
       "</div>\n",
       "<div class=\"col-md-4\">\n",
       "<div class=\"card card-blog\">\n",
       "<div class=\"card-image\">\n",
       "<a href=\"http://www.pycone.com/blogs#pablo\">\n",
       "<img class=\"img img-raised\" src=\"static/python_crawler.png\">\n",
       "</img></a>\n",
       "</div>\n",
       "<div class=\"content\">\n",
       "<h6 class=\"category text-muted\">\n",
       "                                    資料科學\n",
       "                                </h6>\n",
       "<h4 class=\"card-title\">\n",
       "<a href=\"http://www.pycone.com/blogs#pablo\">給初學者的 Python 網頁爬蟲與資料分析</a>\n",
       "</h4>\n",
       "<p class=\"card-description\">\n",
       "                                     (1) 前言<a href=\"http://www.pycone.com/blogs/python-data-science-tutorial-1\"> <br>Read More </br></a>\n",
       "</p>\n",
       "</div>\n",
       "</div>\n",
       "</div>\n",
       "<div class=\"col-md-4\">\n",
       "<div class=\"card card-blog\">\n",
       "<div class=\"card-image\">\n",
       "<a href=\"http://www.pycone.com/blogs#pablo\">\n",
       "<img class=\"img img-raised\" src=\"static/python_crawler.png\">\n",
       "</img></a>\n",
       "</div>\n",
       "<div class=\"content\">\n",
       "<h6 class=\"category text-muted\">\n",
       "                                    資料科學\n",
       "                                </h6>\n",
       "<h4 class=\"card-title\">\n",
       "<a href=\"http://www.pycone.com/blogs#pablo\">給初學者的 Python 網頁爬蟲與資料分析</a>\n",
       "</h4>\n",
       "<p class=\"card-description\">\n",
       "                                     (2) 套件安裝與啟動網頁爬蟲<a href=\"http://www.pycone.com/blogs/python-data-science-tutorial-2\"> <br>Read More </br></a>\n",
       "</p>\n",
       "</div>\n",
       "</div>\n",
       "</div>\n",
       "<div class=\"col-md-4\">\n",
       "<div class=\"card card-blog\">\n",
       "<div class=\"card-image\">\n",
       "<a href=\"http://www.pycone.com/blogs#pablo\">\n",
       "<img class=\"img img-raised\" src=\"static/python_crawler.png\">\n",
       "</img></a>\n",
       "</div>\n",
       "<div class=\"content\">\n",
       "<h6 class=\"category text-muted\">\n",
       "                                    資料科學\n",
       "                                </h6>\n",
       "<h4 class=\"card-title\">\n",
       "<a href=\"http://www.pycone.com/blogs#pablo\">給初學者的 Python 網頁爬蟲與資料分析</a>\n",
       "</h4>\n",
       "<p class=\"card-description\">\n",
       "                                     (3) 解構並擷取網頁資料<a href=\"http://www.pycone.com/blogs/python-data-science-tutorial-3\"> <br>Read More </br></a>\n",
       "</p>\n",
       "</div>\n",
       "</div>\n",
       "</div>\n",
       "<div class=\"col-md-4\">\n",
       "<div class=\"card card-blog\">\n",
       "<div class=\"card-image\">\n",
       "<a href=\"http://www.pycone.com/blogs#pablo\">\n",
       "<img class=\"img img-raised\" src=\"static/python_crawler.png\">\n",
       "</img></a>\n",
       "</div>\n",
       "<div class=\"content\">\n",
       "<h6 class=\"category text-muted\">\n",
       "                                    資料科學\n",
       "                                </h6>\n",
       "<h4 class=\"card-title\">\n",
       "<a href=\"http://www.pycone.com/blogs#pablo\">給初學者的 Python 網頁爬蟲與資料分析</a>\n",
       "</h4>\n",
       "<p class=\"card-description\">\n",
       "                                     (4) 擷取資料及下載圖片<a href=\"http://www.pycone.com/blogs/python-data-science-tutorial-4\"> <br>Read More </br></a>\n",
       "</p>\n",
       "</div>\n",
       "</div>\n",
       "</div>\n",
       "<div class=\"col-md-4\">\n",
       "<div class=\"card card-blog\">\n",
       "<div class=\"card-image\">\n",
       "<a href=\"http://www.pycone.com/blogs#pablo\">\n",
       "<img class=\"img img-raised\" src=\"static/python_crawler.png\">\n",
       "</img></a>\n",
       "</div>\n",
       "<div class=\"content\">\n",
       "<h6 class=\"category text-muted\">\n",
       "                                    資料科學\n",
       "                                </h6>\n",
       "<h4 class=\"card-title\">\n",
       "<a href=\"http://www.pycone.com/blogs#pablo\">給初學者的 Python 網頁爬蟲與資料分析</a>\n",
       "</h4>\n",
       "<p class=\"card-description\">\n",
       "                                     (5) 資料分析及展示<a href=\"http://www.pycone.com/blogs/python-data-science-tutorial-5\"> <br>Read More </br></a>\n",
       "</p>\n",
       "</div>\n",
       "</div>\n",
       "</div>\n",
       "</div>\n",
       "</br></div>\n",
       "</div>\n",
       "</div>\n",
       "</div>\n",
       "</div>\n",
       "</body></html>"
      ]
     },
     "execution_count": 179,
     "metadata": {},
     "output_type": "execute_result"
    }
   ],
   "source": [
    "soup"
   ]
  },
  {
   "cell_type": "markdown",
   "metadata": {},
   "source": [
    "## 找出所有 'h' 開頭的文字"
   ]
  },
  {
   "cell_type": "code",
   "execution_count": 184,
   "metadata": {
    "collapsed": false
   },
   "outputs": [
    {
     "name": "stdout",
     "output_type": "stream",
     "text": [
      "Python教學文章\n",
      "開發環境設定\n",
      "Mac使用者\n",
      "資料科學\n",
      "給初學者的 Python 網頁爬蟲與資料分析\n",
      "資料科學\n",
      "給初學者的 Python 網頁爬蟲與資料分析\n",
      "資料科學\n",
      "給初學者的 Python 網頁爬蟲與資料分析\n",
      "資料科學\n",
      "給初學者的 Python 網頁爬蟲與資料分析\n",
      "資料科學\n",
      "給初學者的 Python 網頁爬蟲與資料分析\n"
     ]
    }
   ],
   "source": [
    "titles = soup.find_all(['h1', 'h2', 'h3', 'h4', 'h5', 'h6'])\n",
    "for title in titles:\n",
    "    print(title.text.strip()) # 用字串的 strip() 方法刪除空白"
   ]
  },
  {
   "cell_type": "markdown",
   "metadata": {},
   "source": [
    "## 找出所有 'h' 開頭的文字_by regx"
   ]
  },
  {
   "cell_type": "code",
   "execution_count": 186,
   "metadata": {
    "collapsed": false
   },
   "outputs": [
    {
     "name": "stdout",
     "output_type": "stream",
     "text": [
      "Python教學文章\n",
      "開發環境設定\n",
      "Mac使用者\n",
      "資料科學\n",
      "給初學者的 Python 網頁爬蟲與資料分析\n",
      "資料科學\n",
      "給初學者的 Python 網頁爬蟲與資料分析\n",
      "資料科學\n",
      "給初學者的 Python 網頁爬蟲與資料分析\n",
      "資料科學\n",
      "給初學者的 Python 網頁爬蟲與資料分析\n",
      "資料科學\n",
      "給初學者的 Python 網頁爬蟲與資料分析\n"
     ]
    }
   ],
   "source": [
    "import re\n",
    "\n",
    "for title in soup.find_all(re.compile('h[1-6]')):\n",
    "    print(title.text.strip())"
   ]
  },
  {
   "cell_type": "markdown",
   "metadata": {},
   "source": [
    "## 找出所有 .png 結尾的圖片"
   ]
  },
  {
   "cell_type": "code",
   "execution_count": 202,
   "metadata": {
    "collapsed": false
   },
   "outputs": [
    {
     "name": "stdout",
     "output_type": "stream",
     "text": [
      "static/python-for-beginners.png\n",
      "static/python_crawler.png\n",
      "static/python_crawler.png\n",
      "static/python_crawler.png\n",
      "static/python_crawler.png\n",
      "static/python_crawler.png\n"
     ]
    }
   ],
   "source": [
    "imgs = soup.find_all('img')\n",
    "for img in imgs:\n",
    "    if 'src' in img.attrs: # 檢查 img 標籤裡是否有 src 屬性\n",
    "        if img['src'].endswith('.png'): # 檢查 是否是 .png 結尾\n",
    "            print(img['src'])"
   ]
  },
  {
   "cell_type": "markdown",
   "metadata": {},
   "source": [
    "## 找出所有 .png 結尾的圖片_by regx"
   ]
  },
  {
   "cell_type": "code",
   "execution_count": 203,
   "metadata": {
    "collapsed": false
   },
   "outputs": [
    {
     "name": "stdout",
     "output_type": "stream",
     "text": [
      "static/python-for-beginners.png\n",
      "static/python_crawler.png\n",
      "static/python_crawler.png\n",
      "static/python_crawler.png\n",
      "static/python_crawler.png\n",
      "static/python_crawler.png\n"
     ]
    }
   ],
   "source": [
    "for img in soup.find_all('img', {'src':re.compile('\\.png$')}):\n",
    "    print(img['src'])"
   ]
  },
  {
   "cell_type": "markdown",
   "metadata": {},
   "source": [
    "## 找出所有 .png 結尾且含 beginner 的圖片"
   ]
  },
  {
   "cell_type": "code",
   "execution_count": 204,
   "metadata": {
    "collapsed": false
   },
   "outputs": [
    {
     "name": "stdout",
     "output_type": "stream",
     "text": [
      "static/python-for-beginners.png\n"
     ]
    }
   ],
   "source": [
    "for img in imgs:\n",
    "    if 'src' in img.attrs: # 檢查 img 標籤裡是否有 src 屬性\n",
    "        if img['src'].endswith('.png') and 'beginner' in img['src']: # 檢查是否是 .png 結尾 & 檢查是否含 'beginner'\n",
    "            print(img['src'])"
   ]
  },
  {
   "cell_type": "markdown",
   "metadata": {},
   "source": [
    "## 找出所有 .png 結尾且含 beginner 的圖片_by regx"
   ]
  },
  {
   "cell_type": "code",
   "execution_count": 206,
   "metadata": {
    "collapsed": false
   },
   "outputs": [
    {
     "name": "stdout",
     "output_type": "stream",
     "text": [
      "static/python-for-beginners.png\n"
     ]
    }
   ],
   "source": [
    "for img in soup.find_all('img', {'src':re.compile('beginner.*\\.png')}):\n",
    "    print(img['src'])"
   ]
  },
  {
   "cell_type": "markdown",
   "metadata": {},
   "source": [
    "# 作業"
   ]
  },
  {
   "cell_type": "markdown",
   "metadata": {},
   "source": [
    "* ## 找出[範例網頁一](http://blog.castman.net/web-crawler-tutorial/ch2/blog/blog.html) 總共有幾篇 blog 貼文"
   ]
  },
  {
   "cell_type": "code",
   "execution_count": 208,
   "metadata": {
    "collapsed": false
   },
   "outputs": [],
   "source": [
    "resp1 = requests.get('http://blog.castman.net/web-crawler-tutorial/ch2/blog/blog.html')\n",
    "soup1 = BeautifulSoup(resp1.text, 'html.parser')"
   ]
  },
  {
   "cell_type": "code",
   "execution_count": 216,
   "metadata": {
    "collapsed": false
   },
   "outputs": [],
   "source": [
    "# soup1"
   ]
  },
  {
   "cell_type": "markdown",
   "metadata": {},
   "source": [
    "***\n",
    "![](https://github.com/vergilchiou/web-crawler-tutorial/blob/master/homework/fig_file/bolg_num.png?raw=true)"
   ]
  },
  {
   "cell_type": "code",
   "execution_count": 215,
   "metadata": {
    "collapsed": false
   },
   "outputs": [
    {
     "name": "stdout",
     "output_type": "stream",
     "text": [
      "總共有 6 篇 blog 貼文\n"
     ]
    }
   ],
   "source": [
    "blog_num = len(soup.find_all('div', {'class':'col-md-4'}))\n",
    "print('總共有 %d 篇 blog 貼文' % (blog_num))"
   ]
  },
  {
   "cell_type": "markdown",
   "metadata": {},
   "source": [
    "* ## 找出範例網頁一 總共有幾張圖片網址含有 'crawler' 字串"
   ]
  },
  {
   "cell_type": "code",
   "execution_count": 225,
   "metadata": {
    "collapsed": false
   },
   "outputs": [
    {
     "name": "stdout",
     "output_type": "stream",
     "text": [
      "static/python_crawler.png\n",
      "static/python_crawler.png\n",
      "static/python_crawler.png\n",
      "static/python_crawler.png\n",
      "static/python_crawler.png\n",
      "\n",
      "總共有 5 張圖片網址含有 \"crawler\" 字串\n"
     ]
    }
   ],
   "source": [
    "count = 0\n",
    "for img in soup1.find_all('img', {'src':re.compile('.*crawler.*\\.png')}):\n",
    "    count += 1\n",
    "    print(img['src'])\n",
    "print('\\n總共有 %d 張圖片網址含有 \"crawler\" 字串' % (count))"
   ]
  },
  {
   "cell_type": "markdown",
   "metadata": {},
   "source": [
    "* ## 找出範例網頁二 總共有幾堂課程"
   ]
  },
  {
   "cell_type": "code",
   "execution_count": 226,
   "metadata": {
    "collapsed": true
   },
   "outputs": [],
   "source": [
    "resp2 = requests.get('http://blog.castman.net/web-crawler-tutorial/ch2/table/table.html')\n",
    "soup2 = BeautifulSoup(resp2.text, 'html.parser')"
   ]
  },
  {
   "cell_type": "markdown",
   "metadata": {},
   "source": [
    "![](https://github.com/vergilchiou/web-crawler-tutorial/blob/master/homework/fig_file/course_num.png?raw=true)"
   ]
  },
  {
   "cell_type": "code",
   "execution_count": 240,
   "metadata": {
    "collapsed": false
   },
   "outputs": [
    {
     "name": "stdout",
     "output_type": "stream",
     "text": [
      "範例網頁二 總共有 6 堂課程\n"
     ]
    }
   ],
   "source": [
    "course_num = len(soup2.find('table', {'class':'table'}).tbody.find_all('tr'))\n",
    "print('範例網頁二 總共有 %d 堂課程' % (course_num))"
   ]
  },
  {
   "cell_type": "code",
   "execution_count": null,
   "metadata": {
    "collapsed": true
   },
   "outputs": [],
   "source": []
  }
 ],
 "metadata": {
  "kernelspec": {
   "display_name": "Python 3",
   "language": "python",
   "name": "python3"
  },
  "language_info": {
   "codemirror_mode": {
    "name": "ipython",
    "version": 3
   },
   "file_extension": ".py",
   "mimetype": "text/x-python",
   "name": "python",
   "nbconvert_exporter": "python",
   "pygments_lexer": "ipython3",
   "version": "3.6.0"
  }
 },
 "nbformat": 4,
 "nbformat_minor": 2
}
